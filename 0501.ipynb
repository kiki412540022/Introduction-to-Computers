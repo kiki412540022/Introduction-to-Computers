{
  "nbformat": 4,
  "nbformat_minor": 0,
  "metadata": {
    "colab": {
      "provenance": [],
      "authorship_tag": "ABX9TyMCY9fI1Cl9CPH0Z+l41ebi",
      "include_colab_link": true
    },
    "kernelspec": {
      "name": "python3",
      "display_name": "Python 3"
    },
    "language_info": {
      "name": "python"
    }
  },
  "cells": [
    {
      "cell_type": "markdown",
      "metadata": {
        "id": "view-in-github",
        "colab_type": "text"
      },
      "source": [
        "<a href=\"https://colab.research.google.com/github/kiki412540022/Introduction-to-Computers/blob/main/0501.ipynb\" target=\"_parent\"><img src=\"https://colab.research.google.com/assets/colab-badge.svg\" alt=\"Open In Colab\"/></a>"
      ]
    },
    {
      "cell_type": "code",
      "source": [
        "i=int(input('請輸入本金存款金額：'))\n",
        "years=1.02**6\n",
        "i*=years\n",
        "print('6年後存款為：'+str(i))\n"
      ],
      "metadata": {
        "colab": {
          "base_uri": "https://localhost:8080/"
        },
        "id": "8wAkbCp034hs",
        "outputId": "6fc84222-a8ce-455b-d65c-b792fae62656"
      },
      "execution_count": 1,
      "outputs": [
        {
          "output_type": "stream",
          "name": "stdout",
          "text": [
            "請輸入本金存款金額：10000\n",
            "6年後存款為：11261.62419264\n"
          ]
        }
      ]
    },
    {
      "cell_type": "code",
      "source": [
        "i=input('請輸入密碼：')\n",
        "if(i=='1234'):\n",
        "    print('歡迎光臨!')"
      ],
      "metadata": {
        "colab": {
          "base_uri": "https://localhost:8080/"
        },
        "id": "6T79mCX_5Gbw",
        "outputId": "76736583-a50c-4796-9a98-9f371b3f6ff3"
      },
      "execution_count": 8,
      "outputs": [
        {
          "name": "stdout",
          "output_type": "stream",
          "text": [
            "請輸入密碼：1111\n"
          ]
        }
      ]
    },
    {
      "cell_type": "code",
      "source": [
        "i=input('請輸入密碼：')\n",
        "if(i=='1234'):\n",
        "  print('歡迎光臨')\n",
        "else:\n",
        "  print('密碼錯誤！')"
      ],
      "metadata": {
        "colab": {
          "base_uri": "https://localhost:8080/"
        },
        "id": "tgJ44I7e56K8",
        "outputId": "c38acd58-8b60-406d-d9f5-f3704ccd3867"
      },
      "execution_count": 11,
      "outputs": [
        {
          "output_type": "stream",
          "name": "stdout",
          "text": [
            "請輸入密碼：1111\n",
            "密碼錯誤！\n"
          ]
        }
      ]
    },
    {
      "cell_type": "code",
      "source": [
        "i=int(input('請輸入正整數：'))\n",
        "if i%2:\n",
        "  print(i,'為奇數！')\n",
        "else:\n",
        "  print(i,'為偶數！')"
      ],
      "metadata": {
        "colab": {
          "base_uri": "https://localhost:8080/"
        },
        "id": "LHSkINcO6sEV",
        "outputId": "d2041d99-3de9-4212-ef92-ed680f03b2d8"
      },
      "execution_count": 13,
      "outputs": [
        {
          "output_type": "stream",
          "name": "stdout",
          "text": [
            "請輸入正整數：51\n",
            "51 為奇數！\n"
          ]
        }
      ]
    }
  ]
}