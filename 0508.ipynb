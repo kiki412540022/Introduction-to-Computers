{
  "nbformat": 4,
  "nbformat_minor": 0,
  "metadata": {
    "colab": {
      "provenance": [],
      "authorship_tag": "ABX9TyPfOH5MTP5sKbbOwM83gShU",
      "include_colab_link": true
    },
    "kernelspec": {
      "name": "python3",
      "display_name": "Python 3"
    },
    "language_info": {
      "name": "python"
    }
  },
  "cells": [
    {
      "cell_type": "markdown",
      "metadata": {
        "id": "view-in-github",
        "colab_type": "text"
      },
      "source": [
        "<a href=\"https://colab.research.google.com/github/kiki412540022/Introduction-to-Computers/blob/main/0508.ipynb\" target=\"_parent\"><img src=\"https://colab.research.google.com/assets/colab-badge.svg\" alt=\"Open In Colab\"/></a>"
      ]
    },
    {
      "cell_type": "code",
      "execution_count": 2,
      "metadata": {
        "colab": {
          "base_uri": "https://localhost:8080/"
        },
        "id": "MEuvdMHeRge0",
        "outputId": "70361a46-082b-4c7c-a3cf-ca6b87b2c267"
      },
      "outputs": [
        {
          "output_type": "stream",
          "name": "stdout",
          "text": [
            "請輸入體溫: 40\n",
            "體溫過高\n"
          ]
        }
      ],
      "source": [
        "temperature = float(input(\"請輸入體溫: \"))\n",
        "\n",
        "if temperature >= 37.4:\n",
        "    print(\"體溫過高\")\n",
        "elif 37 > temperature >= 34:\n",
        "    print(\"體溫略高\")\n",
        "elif 34 > temperature:\n",
        "    print(\"體溫異常，請重新量測\")\n",
        "else:\n",
        "    print(\"體溫正常\")"
      ]
    },
    {
      "cell_type": "code",
      "source": [
        "score = float(input(\"請輸入成績: \"))\n",
        "\n",
        "if score >= 90:\n",
        "    print(\"A\")\n",
        "elif 80 <= score < 90:\n",
        "    print(\"B\")\n",
        "elif 70 <= score < 80:\n",
        "    print(\"C\")\n",
        "elif 60 <= score < 70:\n",
        "    print(\"D\")\n",
        "else:\n",
        "    print(\"E\")"
      ],
      "metadata": {
        "colab": {
          "base_uri": "https://localhost:8080/"
        },
        "id": "QAuICqx0Sgir",
        "outputId": "a7cd5247-9832-48a3-e984-cb515c52de42"
      },
      "execution_count": 3,
      "outputs": [
        {
          "output_type": "stream",
          "name": "stdout",
          "text": [
            "請輸入成績: 85\n",
            "B\n"
          ]
        }
      ]
    },
    {
      "cell_type": "code",
      "source": [
        "month = int(input(\"請輸入月份（1-12）: \"))\n",
        "\n",
        "if 3 <= month <= 5:\n",
        "    print(f\"{month}月是春天\")\n",
        "elif 6 <= month <= 8:\n",
        "    print(f\"{month}月是夏天\")\n",
        "elif 9 <= month <= 11:\n",
        "    print(f\"{month}月是秋天\")\n",
        "elif month == 12 or month == 1 or month == 2:\n",
        "    print(f\"{month}月是冬天\")\n",
        "else:\n",
        "    print(\"月份不在範圍內！\")"
      ],
      "metadata": {
        "colab": {
          "base_uri": "https://localhost:8080/"
        },
        "id": "4ZjUgC6mVZsb",
        "outputId": "4b32ba0f-de2f-47a4-fba6-62ed7379fe9e"
      },
      "execution_count": 9,
      "outputs": [
        {
          "output_type": "stream",
          "name": "stdout",
          "text": [
            "請輸入月份（1-12）: 5\n",
            "5月是春天\n"
          ]
        }
      ]
    }
  ]
}