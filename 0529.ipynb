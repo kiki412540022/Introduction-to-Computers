{
  "nbformat": 4,
  "nbformat_minor": 0,
  "metadata": {
    "colab": {
      "provenance": [],
      "authorship_tag": "ABX9TyPXK0plEw/TQP9/obylly5g",
      "include_colab_link": true
    },
    "kernelspec": {
      "name": "python3",
      "display_name": "Python 3"
    },
    "language_info": {
      "name": "python"
    }
  },
  "cells": [
    {
      "cell_type": "markdown",
      "metadata": {
        "id": "view-in-github",
        "colab_type": "text"
      },
      "source": [
        "<a href=\"https://colab.research.google.com/github/kiki412540022/Introduction-to-Computers/blob/main/0529.ipynb\" target=\"_parent\"><img src=\"https://colab.research.google.com/assets/colab-badge.svg\" alt=\"Open In Colab\"/></a>"
      ]
    },
    {
      "cell_type": "code",
      "source": [
        "a=range(9)"
      ],
      "metadata": {
        "id": "Ua2xYY7ESlQo"
      },
      "execution_count": 14,
      "outputs": []
    },
    {
      "cell_type": "code",
      "source": [
        "print(list(a))"
      ],
      "metadata": {
        "colab": {
          "base_uri": "https://localhost:8080/"
        },
        "id": "fMSBL2wXStnD",
        "outputId": "a8f7e9c3-5d6c-47d8-b5c4-b5695752685d"
      },
      "execution_count": 15,
      "outputs": [
        {
          "output_type": "stream",
          "name": "stdout",
          "text": [
            "[0, 1, 2, 3, 4, 5, 6, 7, 8]\n"
          ]
        }
      ]
    },
    {
      "cell_type": "code",
      "source": [
        "b=range(1,10)"
      ],
      "metadata": {
        "id": "ha3i4d5mS62l"
      },
      "execution_count": 18,
      "outputs": []
    },
    {
      "cell_type": "code",
      "source": [
        "print(list(b))"
      ],
      "metadata": {
        "colab": {
          "base_uri": "https://localhost:8080/"
        },
        "id": "2QRxrzBJTEQc",
        "outputId": "668db001-9d98-4dda-f381-06d4badd2642"
      },
      "execution_count": 19,
      "outputs": [
        {
          "output_type": "stream",
          "name": "stdout",
          "text": [
            "[1, 2, 3, 4, 5, 6, 7, 8, 9]\n"
          ]
        }
      ]
    },
    {
      "cell_type": "code",
      "source": [
        "c=range(1,10,2)"
      ],
      "metadata": {
        "id": "JuxNrivDTLRe"
      },
      "execution_count": 20,
      "outputs": []
    },
    {
      "cell_type": "code",
      "source": [
        "print(list(c))"
      ],
      "metadata": {
        "colab": {
          "base_uri": "https://localhost:8080/"
        },
        "id": "KyHVpKn4TUvg",
        "outputId": "32d86915-6c04-4517-ea99-073e3ac45f48"
      },
      "execution_count": 21,
      "outputs": [
        {
          "output_type": "stream",
          "name": "stdout",
          "text": [
            "[1, 3, 5, 7, 9]\n"
          ]
        }
      ]
    },
    {
      "cell_type": "code",
      "source": [
        "d=range(10,0,-2)"
      ],
      "metadata": {
        "id": "v_FMqajXTYuJ"
      },
      "execution_count": 26,
      "outputs": []
    },
    {
      "cell_type": "code",
      "source": [
        "print(list(d))"
      ],
      "metadata": {
        "colab": {
          "base_uri": "https://localhost:8080/"
        },
        "id": "VTNDdGONTgUw",
        "outputId": "9fba1e39-0b1d-418c-acc7-c9c2c9cd0f4c"
      },
      "execution_count": 27,
      "outputs": [
        {
          "output_type": "stream",
          "name": "stdout",
          "text": [
            "[10, 8, 6, 4, 2]\n"
          ]
        }
      ]
    },
    {
      "cell_type": "code",
      "source": [
        "test=int(input('請輸入一個正整數：'))\n",
        "for m in range(1,test+1):\n",
        "  print(m,end='')"
      ],
      "metadata": {
        "colab": {
          "base_uri": "https://localhost:8080/"
        },
        "id": "dSdZfdO6UGu8",
        "outputId": "6388a906-02a4-4ab3-9f95-06ecd1afadcb"
      },
      "execution_count": 30,
      "outputs": [
        {
          "output_type": "stream",
          "name": "stdout",
          "text": [
            "請輸入一個正整數：5\n",
            "12345"
          ]
        }
      ]
    },
    {
      "cell_type": "code",
      "source": [
        "test=int(input('請輸入一個正整數：'))\n",
        "for m in range(1,test+1,1):\n",
        "  print(m,end='')"
      ],
      "metadata": {
        "colab": {
          "base_uri": "https://localhost:8080/"
        },
        "id": "NWV1otXzUqFB",
        "outputId": "f1fd3cb3-d020-4d70-ad87-635df93b6d77"
      },
      "execution_count": 37,
      "outputs": [
        {
          "output_type": "stream",
          "name": "stdout",
          "text": [
            "請輸入一個正整數：12\n",
            "123456789101112"
          ]
        }
      ]
    },
    {
      "cell_type": "code",
      "source": [
        "for n in range(3):\n",
        "  print(n,end=\",\")"
      ],
      "metadata": {
        "colab": {
          "base_uri": "https://localhost:8080/"
        },
        "id": "oXSBjLBVYT43",
        "outputId": "abeaeaa8-96f8-4b66-d153-a806a0ff607e"
      },
      "execution_count": 44,
      "outputs": [
        {
          "output_type": "stream",
          "name": "stdout",
          "text": [
            "0,1,2,"
          ]
        }
      ]
    },
    {
      "cell_type": "code",
      "source": [
        "sum = 0\n",
        "for n in range(3):\n",
        "    sum = sum + n\n",
        "print(sum)"
      ],
      "metadata": {
        "colab": {
          "base_uri": "https://localhost:8080/"
        },
        "id": "8N7g-76HVA3Z",
        "outputId": "40b34323-36c1-4d31-f17d-bb19962385a0"
      },
      "execution_count": 47,
      "outputs": [
        {
          "output_type": "stream",
          "name": "stdout",
          "text": [
            "0,1,2,3\n"
          ]
        }
      ]
    },
    {
      "cell_type": "code",
      "source": [
        "sum = 0\n",
        "for n in range(11):\n",
        "    sum = sum + n\n",
        "print(sum)"
      ],
      "metadata": {
        "colab": {
          "base_uri": "https://localhost:8080/"
        },
        "id": "aBCsRwHfVw3Q",
        "outputId": "ee38c96f-8f54-466e-9f2d-1eb1e5428727"
      },
      "execution_count": 49,
      "outputs": [
        {
          "output_type": "stream",
          "name": "stdout",
          "text": [
            "55\n"
          ]
        }
      ]
    },
    {
      "cell_type": "code",
      "source": [
        "sum = 0\n",
        "for n in range(51):\n",
        "    sum = sum + n\n",
        "print(sum)"
      ],
      "metadata": {
        "colab": {
          "base_uri": "https://localhost:8080/"
        },
        "id": "2YMul_EAWY8O",
        "outputId": "be51780a-52b6-4ad0-cc6d-256918b7e9a1"
      },
      "execution_count": 50,
      "outputs": [
        {
          "output_type": "stream",
          "name": "stdout",
          "text": [
            "1275\n"
          ]
        }
      ]
    },
    {
      "cell_type": "code",
      "source": [
        "try:\n",
        "    test = int(input(\"請輸入一個正整數: \"))\n",
        "    if test <= 0:\n",
        "        print(\"請輸入一個正整數\")\n",
        "    else:\n",
        "        for i in range(1, test + 1):\n",
        "            sum = 0\n",
        "            for n in range(1, i + 1):\n",
        "                sum += n\n",
        "            print(f\"從 1 到 {i} 的數字總和是: {sum}\")\n",
        "except ValueError:\n",
        "    print(\"請輸入一個有效的正整數\")"
      ],
      "metadata": {
        "colab": {
          "base_uri": "https://localhost:8080/"
        },
        "id": "vyf6M2UfcJnX",
        "outputId": "899fbfd2-7d94-4e8f-98b9-a2209f8c7800"
      },
      "execution_count": 87,
      "outputs": [
        {
          "output_type": "stream",
          "name": "stdout",
          "text": [
            "請輸入一個正整數: 10\n",
            "從 1 到 1 的數字總和是: 1\n",
            "從 1 到 2 的數字總和是: 3\n",
            "從 1 到 3 的數字總和是: 6\n",
            "從 1 到 4 的數字總和是: 10\n",
            "從 1 到 5 的數字總和是: 15\n",
            "從 1 到 6 的數字總和是: 21\n",
            "從 1 到 7 的數字總和是: 28\n",
            "從 1 到 8 的數字總和是: 36\n",
            "從 1 到 9 的數字總和是: 45\n",
            "從 1 到 10 的數字總和是: 55\n"
          ]
        }
      ]
    }
  ]
}