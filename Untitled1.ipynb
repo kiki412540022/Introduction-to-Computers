{
  "nbformat": 4,
  "nbformat_minor": 0,
  "metadata": {
    "colab": {
      "provenance": [],
      "authorship_tag": "ABX9TyNkptif7fgx3kEu7GYIYtfW",
      "include_colab_link": true
    },
    "kernelspec": {
      "name": "python3",
      "display_name": "Python 3"
    },
    "language_info": {
      "name": "python"
    }
  },
  "cells": [
    {
      "cell_type": "markdown",
      "metadata": {
        "id": "view-in-github",
        "colab_type": "text"
      },
      "source": [
        "<a href=\"https://colab.research.google.com/github/kiki412540022/Introduction-to-Computers/blob/main/Untitled1.ipynb\" target=\"_parent\"><img src=\"https://colab.research.google.com/assets/colab-badge.svg\" alt=\"Open In Colab\"/></a>"
      ]
    },
    {
      "cell_type": "code",
      "execution_count": 3,
      "metadata": {
        "colab": {
          "base_uri": "https://localhost:8080/"
        },
        "id": "F5Mm1QPq_1Gg",
        "outputId": "e674b766-5ae6-4e78-f21c-c674cb71ff38"
      },
      "outputs": [
        {
          "output_type": "stream",
          "name": "stdout",
          "text": [
            "請輸入國文成績:50\n",
            "請輸入英文成績:60\n",
            "請輸入數學成績:70\n",
            "你的成績總分為:180\n"
          ]
        }
      ],
      "source": [
        "a=int(input(\"請輸入國文成績:\"))\n",
        "b=int(input(\"請輸入英文成績:\"))\n",
        "c=int(input(\"請輸入數學成績:\"))\n",
        "total=a+b+c\n",
        "print(\"你的成績總分為:%3d\" %total)"
      ]
    },
    {
      "cell_type": "code",
      "source": [
        "上底=int(input('請輸入梯形上底長度:'))\n",
        "下底=int(input('請輸入梯形下底長度:'))\n",
        "高=int(input('請輸入梯形的高度:'))\n",
        "面積=(上底+下底)*高/2\n",
        "print(面積)"
      ],
      "metadata": {
        "colab": {
          "base_uri": "https://localhost:8080/"
        },
        "id": "OznZwO8-FFFc",
        "outputId": "af9eced2-37e3-4e8e-c90f-f7c6ffd05dbe"
      },
      "execution_count": 5,
      "outputs": [
        {
          "output_type": "stream",
          "name": "stdout",
          "text": [
            "請輸入梯形上底長度:3\n",
            "請輸入梯形下底長度:4\n",
            "請輸入梯形的高度:3\n",
            "10.5\n"
          ]
        }
      ]
    },
    {
      "cell_type": "code",
      "source": [
        "height_cm=int(input('請輸入您的身高:'))\n",
        "weight=int(input('請輸入您的體重:'))\n",
        "height_m=height_cm/100\n",
        "bmi=weight/(height_m**2)\n",
        "print(\"BMI為:%3.2f\"%bmi)"
      ],
      "metadata": {
        "colab": {
          "base_uri": "https://localhost:8080/"
        },
        "id": "23lGzzIeGOHk",
        "outputId": "f53a3096-eaa5-45d5-ab40-683ef6b36c37"
      },
      "execution_count": 7,
      "outputs": [
        {
          "output_type": "stream",
          "name": "stdout",
          "text": [
            "請輸入您的身高:180\n",
            "請輸入您的體重:80\n",
            "BMI為:24.69\n"
          ]
        }
      ]
    }
  ]
}